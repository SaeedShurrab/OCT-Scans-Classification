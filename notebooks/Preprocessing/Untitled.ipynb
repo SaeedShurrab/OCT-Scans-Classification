{
 "cells": [
  {
   "cell_type": "code",
   "execution_count": 1,
   "metadata": {},
   "outputs": [],
   "source": [
    "import os\n",
    "import skimage\n",
    "\n",
    "import numpy as np\n",
    "import pandas as pd\n",
    "import skimage.io as io\n",
    "\n",
    "\n",
    "from PIL import Image\n",
    "from typing import List, Any, Tuple\n",
    "from skimage.restoration import  denoise_nl_means\n",
    "from skimage.metrics import peak_signal_noise_ratio\n",
    "\n",
    "import torchvision.transforms.functional as ft\n",
    "from torchvision.transforms import Compose, ToTensor, Resize"
   ]
  },
  {
   "cell_type": "code",
   "execution_count": 2,
   "metadata": {},
   "outputs": [],
   "source": [
    "def nlm_denoising(img:Any) -> Any:\n",
    "    \"\"\" this function takes noisy image and return a denoised version of the input image \n",
    "\n",
    "    Args:\n",
    "        img (Any): input image\n",
    "\n",
    "    Returns:\n",
    "        output image\n",
    "    \"\"\"    \n",
    "    img= np.array(img)   \n",
    "    img = skimage.img_as_float(img)\n",
    "    nlm_den = denoise_nl_means(img,patch_size=7,patch_distance=11,h=0.1)\n",
    "    img = skimage.img_as_ubyte(img)\n",
    "    img = Image.fromarray(img)\n",
    "    return nlm_den\n"
   ]
  },
  {
   "cell_type": "code",
   "execution_count": 3,
   "metadata": {},
   "outputs": [],
   "source": [
    "def resizing(img:Any , H:int, W:int) -> Any:\n",
    "    \"\"\"this function takse input image of any extension and return a resized version \n",
    "    of it according the specified width and hight\n",
    "\n",
    "    Args:\n",
    "        img (Any): the input image\n",
    "        H (int): the hight of the resized image\n",
    "        W (int): the width of the resized image\n",
    "\n",
    "    Returns:\n",
    "        the resized image\n",
    "    \"\"\"    \n",
    "    img = ft.resize(img,size=[H,W])\n",
    "    return img\n",
    "\n"
   ]
  },
  {
   "cell_type": "code",
   "execution_count": 4,
   "metadata": {},
   "outputs": [],
   "source": [
    "def hflip_aug(img:Any) -> Any:\n",
    "    \"\"\" this function takes input image, perform horizontal flipping and return it\n",
    "\n",
    "\n",
    "    Args:\n",
    "        img (Any): the input image\n",
    "\n",
    "    Returns:\n",
    "        Any: the output image\n",
    "    \"\"\"\n",
    "    img = ft.hflip(img)    \n",
    "    return img\n"
   ]
  },
  {
   "cell_type": "code",
   "execution_count": 5,
   "metadata": {},
   "outputs": [],
   "source": [
    "def randrot_aug(img: Any, direction: str = 'positive' ) -> Any:\n",
    "    \"\"\"this function takes input image, perform random rotation and return it.\n",
    "\n",
    "    Args:\n",
    "        img (Any): [description]\n",
    "        direction (str, optional): the rotation direction. Defaults to 'positive'.\n",
    "\n",
    "    Returns:\n",
    "        the reotated image\n",
    "    \"\"\"    \n",
    "    angle = np.random.randint(4,8)\n",
    "\n",
    "    if direction == 'negative':\n",
    "        angle *= -1\n",
    "\n",
    "    img = ft.rotate(img,angle,fill=255)\n",
    "    return img\n"
   ]
  },
  {
   "cell_type": "code",
   "execution_count": 6,
   "metadata": {},
   "outputs": [],
   "source": [
    "def read_iamge(img_dir: str) -> Any:\n",
    "    \"\"\"this function read an image from the supplied path\n",
    "\n",
    "    Args:\n",
    "        img_dir (str): path to the input image\n",
    "\n",
    "    Returns:\n",
    "        PIL Image\n",
    "    \"\"\"                \n",
    "    img = Image.open(img_dir)\n",
    "    return img\n"
   ]
  },
  {
   "cell_type": "code",
   "execution_count": 7,
   "metadata": {},
   "outputs": [],
   "source": [
    "def save_image(img:Any, output_dir: str, img_name: str ):\n",
    "    \"\"\"this function convert the input image into uint8 class and save it to a spicific directory\n",
    "\n",
    "    Args:\n",
    "        img (Any): input image of type\n",
    "        output_dir (str): the location at which the image will be saved\n",
    "        img_name (str): the ultimate name of the image in the form image.format \n",
    "    \"\"\"    \n",
    "    img.save(fp=os.path.join(output_dir,img_name))\n"
   ]
  },
  {
   "cell_type": "code",
   "execution_count": null,
   "metadata": {},
   "outputs": [],
   "source": [
    "# Data directories definition\n",
    "raw_dir = os.path.join(os.curdir,'data','raw','train')\n",
    "intermed_dir = os.path.join(os.curdir,'data','intermediate')\n",
    "preprocessed_dir = os.path.join(os.curdir,'data','preprocessed')"
   ]
  },
  {
   "cell_type": "code",
   "execution_count": null,
   "metadata": {},
   "outputs": [],
   "source": [
    "# 1- Images denoising process\n",
    "for dir in os.listdir(raw_dir):\n",
    "\n",
    "    image_dir = os.path.join(raw_dir,dir)\n",
    "\n",
    "    saving_dir = os.path.join(intermed_dir,dir)\n",
    "    \n",
    "    for image in os.listdir(image_dir):\n",
    "\n",
    "        img = read_iamge(os.path.join(image_dir,image))\n",
    "        img = nlm_denoising(img)\n",
    "        save_image(img,saving_dir,image,'jpg')"
   ]
  },
  {
   "cell_type": "code",
   "execution_count": null,
   "metadata": {},
   "outputs": [],
   "source": [
    "\n",
    "# 2- image resizing\n",
    "for dir in os.listdir(intermed_dir):\n",
    "\n",
    "    image_dir = os.path.join(intermed_dir,dir)\n",
    "    \n",
    "    saving_dir = os.path.join(preprocessed_dir,dir)\n",
    "    \n",
    "    for image in os.listdir(image_dir):\n",
    "        \n",
    "        img = read_iamge(os.path.join(image_dir,image))\n",
    "        img = resizing(img,224,224)\n",
    "        save_image(img,saving_dir,image)"
   ]
  },
  {
   "cell_type": "code",
   "execution_count": null,
   "metadata": {},
   "outputs": [],
   "source": [
    "# 3-images augmentation\n",
    "augmentations = ['h-flip','pos_rot', 'neg_rot']\n",
    "\n",
    "for augment in augmentations:\n",
    "\n",
    "    for dir in os.listdir(intermed_dir):\n",
    "\n",
    "        if dir in ['DME','DRUSEN']:\n",
    "\n",
    "            image_dir = os.path.join(intermed_dir,dir)\n",
    "    \n",
    "            saving_dir = os.path.join(preprocessed_dir,dir)\n",
    "    \n",
    "            for image in os.listdir(image_dir):\n",
    "        \n",
    "                img = read_iamge(os.path.join(image_dir,image))\n",
    "\n",
    "                if augment == 'h-flip':\n",
    "                    img = hflip_aug(img)\n",
    "                    image = image[:-5] + '-hf' + image[-5:]\n",
    "                \n",
    "                if augment == 'pos_rot':\n",
    "                    img = randrot_aug(img, direction='positive')\n",
    "                    image = image[:-5] + '-pr' + image[-5:]\n",
    "\n",
    "                if augment == 'neg_rot':\n",
    "                    img = randrot_aug(img,direction= 'negative')\n",
    "                    image = image[:-5] + '-nr' + image[-5:]\n",
    "                \n",
    "\n",
    "                img = resizing(img,224,224)\n",
    "                save_image(img,saving_dir,image)"
   ]
  }
 ],
 "metadata": {
  "kernelspec": {
   "display_name": "Python 3",
   "language": "python",
   "name": "python3"
  },
  "language_info": {
   "codemirror_mode": {
    "name": "ipython",
    "version": 3
   },
   "file_extension": ".py",
   "mimetype": "text/x-python",
   "name": "python",
   "nbconvert_exporter": "python",
   "pygments_lexer": "ipython3",
   "version": "3.8.3"
  }
 },
 "nbformat": 4,
 "nbformat_minor": 4
}
